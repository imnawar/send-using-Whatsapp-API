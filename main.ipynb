{
  "nbformat": 4,
  "nbformat_minor": 0,
  "metadata": {
    "colab": {
      "name": "Send_using_Whatsapp_API.ipynb",
      "provenance": [],
      "authorship_tag": "ABX9TyMJBToOlhtDKjwa4dowiu1M",
      "include_colab_link": true
    },
    "kernelspec": {
      "name": "python3",
      "display_name": "Python 3"
    },
    "language_info": {
      "name": "python"
    }
  },
  "cells": [
    {
      "cell_type": "markdown",
      "metadata": {
        "id": "view-in-github",
        "colab_type": "text"
      },
      "source": [
        "<a href=\"https://colab.research.google.com/github/imnawar/send-using-Whatsapp-API/blob/main/main.ipynb\" target=\"_parent\"><img src=\"https://colab.research.google.com/assets/colab-badge.svg\" alt=\"Open In Colab\"/></a>"
      ]
    },
    {
      "cell_type": "code",
      "execution_count": 8,
      "metadata": {
        "id": "sJuMDAAY3U_5"
      },
      "outputs": [],
      "source": [
        "import pandas as pd"
      ]
    },
    {
      "cell_type": "code",
      "source": [
        "file_name = '' + '.xlsx'"
      ],
      "metadata": {
        "id": "s1w94Efr46Fv"
      },
      "execution_count": 9,
      "outputs": []
    },
    {
      "cell_type": "code",
      "source": [
        "phones = pd.read_excel(file_name, header=None)"
      ],
      "metadata": {
        "id": "MRpWsS7k42Ne"
      },
      "execution_count": 22,
      "outputs": []
    },
    {
      "cell_type": "code",
      "source": [
        "phones = phones.reset_index()"
      ],
      "metadata": {
        "id": "uYTWqoOi639D"
      },
      "execution_count": 23,
      "outputs": []
    },
    {
      "cell_type": "code",
      "source": [
        "if phones.iloc[0].dtype!='int64':\n",
        "  phones.drop(index=0, inplace=True)"
      ],
      "metadata": {
        "id": "Leie0xPH9Jvh"
      },
      "execution_count": 25,
      "outputs": []
    },
    {
      "cell_type": "code",
      "source": [
        "phones.columns = ['index', 'phone_number']"
      ],
      "metadata": {
        "id": "9XVybQgE-T1b"
      },
      "execution_count": 33,
      "outputs": []
    },
    {
      "cell_type": "code",
      "source": [
        "def clean_phones(phone_number):\n",
        "  phone_number = str(phone_number)\n",
        "  if phone_number[0]=='0':\n",
        "    phone = phone_number[1:]\n",
        "    phone_number='+966'+phone\n",
        "  elif phone_number[:3]=='966':\n",
        "    phone_number = '+' + phone_number\n",
        "  return phone_number"
      ],
      "metadata": {
        "id": "D2-9xj6u5R2L"
      },
      "execution_count": 38,
      "outputs": []
    },
    {
      "cell_type": "code",
      "source": [
        "phones['phone_number'] = phones['phone_number'].apply(clean_phones)"
      ],
      "metadata": {
        "id": "tlV7HDAh70tc"
      },
      "execution_count": 40,
      "outputs": []
    },
    {
      "cell_type": "code",
      "source": [
        "send_to = ', '.join(phones.phone_number.values)"
      ],
      "metadata": {
        "id": "vaa0woxp_rj2"
      },
      "execution_count": 44,
      "outputs": []
    },
    {
      "cell_type": "code",
      "source": [
        "token ='' # here add your api token from https://ultramsg.com"
      ],
      "metadata": {
        "id": "8rRKx0-70xqL"
      },
      "execution_count": null,
      "outputs": []
    },
    {
      "cell_type": "code",
      "source": [
        "# here add the message \n",
        "message =  '''\n",
        "\n",
        "'''"
      ],
      "metadata": {
        "id": "kwyO7BRTAHyY"
      },
      "execution_count": null,
      "outputs": []
    },
    {
      "cell_type": "code",
      "source": [
        "payload = token+send_to+'&body='+message+'&priority=1&referenceId='"
      ],
      "metadata": {
        "id": "mywPzlRa0xqM"
      },
      "execution_count": null,
      "outputs": []
    },
    {
      "cell_type": "code",
      "source": [
        "import requests\n",
        "\n",
        "url = \"https://api.ultramsg.com/instance10523/messages/chat\"\n",
        "\n",
        "headers = {'content-type': 'application/x-www-form-urlencoded'}\n",
        "\n",
        "response = requests.request(\"POST\", url, data=payload.encode('utf-8'), headers=headers)\n",
        "\n",
        "print(\"Done\")"
      ],
      "metadata": {
        "id": "U3kkmSEE0xqM"
      },
      "execution_count": null,
      "outputs": []
    }
  ]
}